{
 "cells": [
  {
   "cell_type": "code",
   "execution_count": 20,
   "metadata": {},
   "outputs": [],
   "source": [
    "import pandas as pd\n",
    "from glob import glob\n",
    "import matplotlib. pyplot as plt\n",
    "%matplotlib inline"
   ]
  },
  {
   "cell_type": "code",
   "execution_count": 70,
   "metadata": {},
   "outputs": [
    {
     "name": "stdout",
     "output_type": "stream",
     "text": [
      "2017\n",
      "2012\n",
      "2014\n",
      "2016\n",
      "2019\n",
      "2011\n",
      "2015\n",
      "2018\n",
      "2013\n"
     ]
    }
   ],
   "source": [
    "inFiles = glob('./*.csv')\n",
    "yearList =[]\n",
    "CNbusi =[]\n",
    "CNstu =[]\n",
    "CNtour =[]\n",
    "\n",
    "for inF in inFiles:\n",
    "\n",
    "    year = inF.split('.')[1][-4:]\n",
    "    print year\n",
    "    df = pd.read_csv(inF)\n",
    "    df.columns = ['Rank', 'Country', 'Business', 'Pleasure', 'Student']\n",
    "    df = df.transpose()\n",
    "    for col in range(10):  # col corresponds to each country\n",
    "        cnty = df.iloc[1][col]\n",
    "\n",
    "        if 'China' in cnty: \n",
    "            yearList.append(year)\n",
    "            CNbusi.append(df.iloc[2][col])\n",
    "            CNtour.append(df.iloc[3][col])\n",
    "            CNstu.append(df.iloc[4][col])\n",
    "        df.columns = df.iloc[1]\n",
    "        ndf = df[2:]\n",
    "        plot = ndf.plot.pie(y=cnty, figsize=(5, 5))\n",
    "        plt.savefig( year+'_'+cnty + '.png')\n"
   ]
  },
  {
   "cell_type": "code",
   "execution_count": 65,
   "metadata": {},
   "outputs": [
    {
     "data": {
      "text/plain": [
       "[0.115201888]"
      ]
     },
     "execution_count": 65,
     "metadata": {},
     "output_type": "execute_result"
    }
   ],
   "source": [
    "CNbusi"
   ]
  },
  {
   "cell_type": "code",
   "execution_count": 73,
   "metadata": {},
   "outputs": [
    {
     "data": {
      "image/png": "[encoded data removed]",
      "text/plain": [
       "<matplotlib.figure.Figure at 0x7fda081f4b90>"
      ]
     },
     "metadata": {},
     "output_type": "display_data"
    }
   ],
   "source": [
    "plt.figure()\n",
    "plt.plot(yearList, CNbusi, marker='*',linestyle = 'None', label='Business')\n",
    "plt.plot(yearList, CNstu, marker='*',linestyle = 'None',label='Student')\n",
    "plt.plot(yearList, CNtour, marker='*',linestyle = 'None', label='Pleasure')\n",
    "plt.xlabel('year')\n",
    "plt.ylabel('Visa type portion')\n",
    "plt.legend()\n",
    "plt.savefig('China_visaTypePortion_year.png')"
   ]
  },
  {
   "cell_type": "code",
   "execution_count": 55,
   "metadata": {},
   "outputs": [],
   "source": []
  },
  {
   "cell_type": "code",
   "execution_count": 57,
   "metadata": {},
   "outputs": [],
   "source": []
  },
  {
   "cell_type": "code",
   "execution_count": null,
   "metadata": {},
   "outputs": [],
   "source": []
  },
  {
   "cell_type": "code",
   "execution_count": null,
   "metadata": {},
   "outputs": [],
   "source": []
  }
 ],
 "metadata": {
  "kernelspec": {
   "display_name": "Python 2",
   "language": "python",
   "name": "python2"
  },
  "language_info": {
   "codemirror_mode": {
    "name": "ipython",
    "version": 2
   },
   "file_extension": ".py",
   "mimetype": "text/x-python",
   "name": "python",
   "nbconvert_exporter": "python",
   "pygments_lexer": "ipython2",
   "version": "2.7.14"
  }
 },
 "nbformat": 4,
 "nbformat_minor": 2
}
